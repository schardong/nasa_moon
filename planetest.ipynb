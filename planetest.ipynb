{
 "cells": [
  {
   "cell_type": "code",
   "execution_count": 1,
   "metadata": {},
   "outputs": [],
   "source": [
    "import numpy as np\n",
    "\n",
    "def normalizeV (v):\n",
    "    return v / np.linalg.norm(v)\n",
    "# https://stackoverflow.com/questions/23763796/how-to-find-slope-of-a-3d-plane\n",
    "#\n",
    "#  Z        Y\n",
    "#  |      /\n",
    "#  |    /\n",
    "#  |  /\n",
    "#  |/\n",
    "#  ------------------------- X\n",
    "#\n",
    "def IsAPlane(heights, dist_between_px, angle_threshold):\n",
    "    # p0 p1\n",
    "    # p2 p3\n",
    "    p0 = np.array([              0, dist_between_px, heights.item((0, 0))])\n",
    "    p1 = np.array([dist_between_px, dist_between_px, heights.item((0, 1))])\n",
    "    p2 = np.array([              0,               0, heights.item((1, 0))])\n",
    "    p3 = np.array([dist_between_px,               0, heights.item((1, 1))])\n",
    "    \n",
    "    #print(p0, p1, p2, p3)\n",
    "    \n",
    "    # t1 = p0, p1, p3 \n",
    "    # t2 = p0, p3, p2\n",
    "\n",
    "    v32 = normalizeV(p3 - p2)    \n",
    "    v12 = normalizeV(p1 - p2)\n",
    "    v02 = normalizeV(p0 - p2)\n",
    "    normal_2_1 = normalizeV(np.cross(v32, v12))\n",
    "    normal_2_2 = normalizeV(np.cross(v12, v02))\n",
    "    \n",
    "    v13 = normalizeV(p1 - p3)\n",
    "    v03 = normalizeV(p0 - p3)\n",
    "    v23 = normalizeV(p2 - p3)\n",
    "    normal_3_1 = normalizeV(np.cross(v13, v03))\n",
    "    normal_3_2 = normalizeV(np.cross(v03, v23))\n",
    "    \n",
    "    # get horizontal vectors, not considering height difference\n",
    "    n_test03 = p0 - p3\n",
    "    n_test03[2] = 0\n",
    "    n_test03 = normalizeV(n_test03)\n",
    "\n",
    "    n_test12 = p1 - p2\n",
    "    n_test12[2] = 0\n",
    "    n_test12 = normalizeV(n_test12)\n",
    "    \n",
    "    # ~= 1.0 -> 0g\n",
    "    cos_thresh = np.cos(angle_threshold * np.pi / 180.0)\n",
    "    if (np.dot(normal_2_1, normal_2_2) > cos_thresh \n",
    "        and np.dot(normal_3_1, normal_3_2) > cos_thresh\n",
    "        and np.dot(v03, n_test03) > cos_thresh\n",
    "        and np.dot(v12, n_test12) > cos_thresh):\n",
    "        return 1\n",
    "    else:\n",
    "        return 0\n",
    "    \n",
    "# receives a 200x200 matrix\n",
    "def PlaneTest(win_heights):\n",
    "    return IsAPlane(win_heights[99:101, 99:101], 120, 10)"
   ]
  },
  {
   "cell_type": "code",
   "execution_count": 2,
   "metadata": {},
   "outputs": [
    {
     "data": {
      "text/plain": [
       "<Figure size 640x480 with 1 Axes>"
      ]
     },
     "metadata": {},
     "output_type": "display_data"
    }
   ],
   "source": [
    "import math\n",
    "import numpy as np\n",
    "import sys\n",
    "import cv2\n",
    "import pickle\n",
    "from sklearn.preprocessing import normalize\n",
    "import matplotlib.pyplot as plt\n",
    "\n",
    "input_filename = \"data/LAMP_80s_240mpp_ratio_albed_01.img\"\n",
    "shape = (2501, 2501) # matrix size\n",
    "dtype = np.float32 # big-endian unsigned integer (16bit)\n",
    "output_filename = \"LAMP_BRITE.PNG\"\n",
    "\n",
    "height = np.reshape(np.fromfile(open(\"data/LDEM_75S_120M.IMG\",\n",
    "                                     'rb'), np.int16), (7624,7624))\n",
    "\n",
    "height = height[1311:-1311,1311:-1311]\n",
    "plt.imshow(height)\n",
    "plt.show()"
   ]
  },
  {
   "cell_type": "code",
   "execution_count": null,
   "metadata": {},
   "outputs": [],
   "source": [
    "landing_pos = np.zeros((height.shape[0] - 1, height.shape[1] - 1))\n",
    "\n",
    "w = height.shape[0] - 1\n",
    "h = height.shape[1] - 1\n",
    "for i in range(w):\n",
    "    for j in range(h):\n",
    "        sub_set = height[i:i+2, j:j+2]\n",
    "        landing_pos[i, j] = IsAPlane(sub_set, 120, 10)\n",
    "\n",
    "plt.imshow(landing_pos)\n",
    "plt.show()"
   ]
  },
  {
   "cell_type": "code",
   "execution_count": null,
   "metadata": {},
   "outputs": [],
   "source": [
    "%%time\n",
    "from multiprocessing import Pool\n",
    "from itertools import product\n",
    "\n",
    "def process_isplane_round(params_tup):\n",
    "    i, j = params_tup\n",
    "    sub_set = height[i:i+2, j:j+2]\n",
    "    return IsAPlane(sub_set, 120, 10), i, j\n",
    "\n",
    "step = 1\n",
    "x = 100#(height.shape[0] - 1) // step\n",
    "y = 100#(height.shape[1] - 1) // step\n",
    "params = product(np.arange(0, x), np.arange(0, y))\n",
    "landing_pos_mt = np.zeros((x, y))\n",
    "\n",
    "with Pool(processes = 4) as p:\n",
    "    results = p.map_async(process_isplane_round, params).get()\n",
    "    for r in results:\n",
    "        isplane, i, j = r\n",
    "        landing_pos_mt[i, j] = isplane\n",
    "\n",
    "plt.imshow(landing_pos_mt)\n",
    "plt.show()"
   ]
  },
  {
   "cell_type": "code",
   "execution_count": null,
   "metadata": {},
   "outputs": [],
   "source": []
  }
 ],
 "metadata": {
  "kernelspec": {
   "display_name": "Python 3",
   "language": "python",
   "name": "python3"
  },
  "language_info": {
   "codemirror_mode": {
    "name": "ipython",
    "version": 3
   },
   "file_extension": ".py",
   "mimetype": "text/x-python",
   "name": "python",
   "nbconvert_exporter": "python",
   "pygments_lexer": "ipython3",
   "version": "3.6.4"
  }
 },
 "nbformat": 4,
 "nbformat_minor": 2
}
