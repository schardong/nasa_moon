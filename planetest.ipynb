{
 "cells": [
  {
   "cell_type": "code",
   "execution_count": 1,
   "metadata": {},
   "outputs": [
    {
     "name": "stdout",
     "output_type": "stream",
     "text": [
      "True\n",
      "True\n",
      "False\n",
      "False\n"
     ]
    }
   ],
   "source": [
    "import numpy as np\n",
    "\n",
    "def normalizeV (v):\n",
    "    return v / np.linalg.norm(v)\n",
    "# https://stackoverflow.com/questions/23763796/how-to-find-slope-of-a-3d-plane\n",
    "#\n",
    "#  Z        Y\n",
    "#  |      /\n",
    "#  |    /\n",
    "#  |  /\n",
    "#  |/\n",
    "#  ------------------------- X\n",
    "#\n",
    "def IsAPlane(heights, dist_between_px, angle_threshold):\n",
    "    # p0 p1\n",
    "    # p2 p3\n",
    "    p0 = np.array([              0, dist_between_px, heights.item((0, 0))])\n",
    "    p1 = np.array([dist_between_px, dist_between_px, heights.item((0, 1))])\n",
    "    p2 = np.array([              0,               0, heights.item((1, 0))])\n",
    "    p3 = np.array([dist_between_px,               0, heights.item((1, 1))])\n",
    "    \n",
    "    #print(p0, p1, p2, p3)\n",
    "    \n",
    "    # t1 = p0, p1, p3 \n",
    "    # t2 = p0, p3, p2\n",
    "\n",
    "    v32 = normalizeV(p3 - p2)    \n",
    "    v12 = normalizeV(p1 - p2)\n",
    "    v02 = normalizeV(p0 - p2)\n",
    "    normal_2_1 = normalizeV(np.cross(v32, v12))\n",
    "    normal_2_2 = normalizeV(np.cross(v12, v02))\n",
    "    \n",
    "    v13 = normalizeV(p1 - p3)\n",
    "    v03 = normalizeV(p0 - p3)\n",
    "    v23 = normalizeV(p2 - p3)\n",
    "    normal_3_1 = normalizeV(np.cross(v13, v03))\n",
    "    normal_3_2 = normalizeV(np.cross(v03, v23))\n",
    "    \n",
    "    # ~= 1.0 -> 0g\n",
    "    r_thresh = angle_threshold * np.pi / 180.0\n",
    "    return (np.dot(normal_2_1, normal_2_2) > r_thresh or np.dot(normal_3_1, normal_3_2) > r_thresh)\n",
    "\n",
    "print(IsAPlane(np.mat('2 2; 2 50'), 120, 10))\n",
    "print(IsAPlane(np.mat('2 10; 50 200'), 10, 10))\n",
    "print(IsAPlane(np.mat('2 2; 2 1000'), 120, 10))\n",
    "print(IsAPlane(np.mat('2 -100; 0 50'), 50, 10))"
   ]
  }
 ],
 "metadata": {
  "kernelspec": {
   "display_name": "Python 3",
   "language": "python",
   "name": "python3"
  },
  "language_info": {
   "codemirror_mode": {
    "name": "ipython",
    "version": 3
   },
   "file_extension": ".py",
   "mimetype": "text/x-python",
   "name": "python",
   "nbconvert_exporter": "python",
   "pygments_lexer": "ipython3",
   "version": "3.6.4"
  }
 },
 "nbformat": 4,
 "nbformat_minor": 2
}
