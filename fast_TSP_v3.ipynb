{
 "cells": [
  {
   "cell_type": "code",
   "execution_count": 1,
   "metadata": {},
   "outputs": [
    {
     "name": "stdout",
     "output_type": "stream",
     "text": [
      "Julia Version 0.6.4\n",
      "Commit 9d11f62bcb (2018-07-09 19:09 UTC)\n",
      "Platform Info:\n",
      "  OS: Linux (x86_64-pc-linux-gnu)\n",
      "  CPU: Intel(R) Core(TM) i7-4500U CPU @ 1.80GHz\n",
      "  WORD_SIZE: 64\n",
      "  BLAS: libopenblas (USE64BITINT DYNAMIC_ARCH NO_AFFINITY Haswell MAX_THREADS=16)\n",
      "  LAPACK: libopenblas64_\n",
      "  LIBM: libopenlibm\n",
      "  LLVM: libLLVM-3.9.1 (ORCJIT, haswell)\n"
     ]
    }
   ],
   "source": [
    "versioninfo()"
   ]
  },
  {
   "cell_type": "code",
   "execution_count": 2,
   "metadata": {},
   "outputs": [],
   "source": [
    "using StatsBase\n",
    "using IterTools"
   ]
  },
  {
   "cell_type": "code",
   "execution_count": 56,
   "metadata": {},
   "outputs": [
    {
     "name": "stderr",
     "output_type": "stream",
     "text": [
      "\u001b[1m\u001b[36mINFO: \u001b[39m\u001b[22m\u001b[36mCloning cache of LightGraphs from https://github.com/JuliaGraphs/LightGraphs.jl.git\n",
      "\u001b[39m\u001b[1m\u001b[36mINFO: \u001b[39m\u001b[22m\u001b[36mCloning cache of SimpleTraits from https://github.com/mauro3/SimpleTraits.jl.git\n",
      "\u001b[39m\u001b[1m\u001b[36mINFO: \u001b[39m\u001b[22m\u001b[36mInstalling LightGraphs v0.12.0\n",
      "\u001b[39m\u001b[1m\u001b[36mINFO: \u001b[39m\u001b[22m\u001b[36mInstalling SimpleTraits v0.6.0\n",
      "\u001b[39m\u001b[1m\u001b[36mINFO: \u001b[39m\u001b[22m\u001b[36mBuilding CodecZlib\n",
      "\u001b[39m\u001b[1m\u001b[36mINFO: \u001b[39m\u001b[22m\u001b[36mPackage database updated\n",
      "\u001b[39m\u001b[1m\u001b[36mINFO: \u001b[39m\u001b[22m\u001b[36mMETADATA is out-of-date — you may not have the latest version of LightGraphs\n",
      "\u001b[39m\u001b[1m\u001b[36mINFO: \u001b[39m\u001b[22m\u001b[36mUse `Pkg.update()` to get the latest versions of your packages\n",
      "\u001b[39m"
     ]
    }
   ],
   "source": [
    "Pkg.add(\"LightGraphs\")"
   ]
  },
  {
   "cell_type": "code",
   "execution_count": 3,
   "metadata": {},
   "outputs": [
    {
     "data": {
      "text/plain": [
       "first_sequential_k_opt2 (generic function with 1 method)"
      ]
     },
     "execution_count": 3,
     "metadata": {},
     "output_type": "execute_result"
    }
   ],
   "source": [
    "function evaluate(solution)\n",
    "    objective_function = 0\n",
    "    \n",
    "    for i in 1:(size(solution)[1]-1)\n",
    "        objective_function += distances[solution[i],solution[i+1]]\n",
    "    end\n",
    "\n",
    "    objective_function += distances[solution[end],solution[1]]\n",
    "    \n",
    "    return objective_function\n",
    "end\n",
    "\n",
    "function first_sequential_k_opt2(solution)\n",
    "    #solution_ref = copy(solution)\n",
    "    #push!(solution_ref, solution[end])\n",
    "    \n",
    "    #search\n",
    "    for i in 1:length(solution)-1\n",
    "        used_cities = []\n",
    "        old_weights = distances[solution[i],solution[i+1]]\n",
    "        new_gain = 0\n",
    "        \n",
    "        new_solution = vcat(solution[i:-1:1], solution[end:-1:i+1])\n",
    "        \n",
    "        push!(used_cities, solution[i])\n",
    "        push!(used_cities, solution[i+1])\n",
    "        for k = 2:5\n",
    "            found = false\n",
    "            for city in near_cities[new_solution[end]]\n",
    "                candidate = findin(new_solution, city)\n",
    "                if length(candidate) == 1\n",
    "                    j = candidate[1]\n",
    "                    if ~(city in used_cities) & ~(new_solution[j+1] in used_cities)\n",
    "                        if ((old_weights + distances[new_solution[j],new_solution[j+1]]) >\n",
    "                            (new_gain + distances[new_solution[end], new_solution[j]]\n",
    "                            + distances[new_solution[1], new_solution[j+1]]))\n",
    "                            \n",
    "                            found = true\n",
    "                            \n",
    "                            old_weights += distances[new_solution[j],new_solution[j+1]]\n",
    "                            new_gain += distances[new_solution[end],new_solution[j]]\n",
    "                            \n",
    "                            push!(used_cities, new_solution[j])\n",
    "                            push!(used_cities, new_solution[j+1])\n",
    "                            \n",
    "                            new_solution = vcat(new_solution[1:j], new_solution[end:-1:j+1])\n",
    "                            \n",
    "                            break\n",
    "                        end\n",
    "\n",
    "                    end\n",
    "                end\n",
    "            end\n",
    "            if found == false\n",
    "                break\n",
    "            end\n",
    "        end\n",
    "        if length(used_cities) > 2\n",
    "            return new_solution, true\n",
    "        end \n",
    "    end\n",
    "    #@show solution\n",
    "    return solution, false \n",
    "end"
   ]
  },
  {
   "cell_type": "code",
   "execution_count": 5,
   "metadata": {},
   "outputs": [],
   "source": [
    "#time_limit = Dates.now() + Dates.Second(300)#+ Dates.Second(0.1) #+ Dates.Minute(5)\n",
    "\n",
    "m = readdlm(\"TSP_instances/problem_500_100_10000_10000.pctsp\");"
   ]
  },
  {
   "cell_type": "code",
   "execution_count": 51,
   "metadata": {},
   "outputs": [
    {
     "name": "stdout",
     "output_type": "stream",
     "text": [
      "  0.000093 seconds (13 allocations: 78.516 KiB)\n"
     ]
    },
    {
     "data": {
      "text/plain": [
       "100×100 Array{Float64,2}:\n",
       "    0.0  9684.0  3785.0  6596.0  1528.0  …  3633.0  1836.0  2166.0  8347.0\n",
       " 9684.0     0.0  3637.0    13.0  1799.0     4785.0  5907.0  1165.0  3386.0\n",
       " 3785.0  3637.0     0.0  4932.0  5590.0     6360.0  2971.0   513.0  1174.0\n",
       " 6596.0    13.0  4932.0     0.0  1027.0     5414.0  5175.0   757.0  4475.0\n",
       " 1528.0  1799.0  5590.0  1027.0     0.0      655.0  2108.0  6467.0  7233.0\n",
       " 4969.0   306.0  7882.0  3366.0  2110.0  …  9430.0  2511.0  9527.0  2676.0\n",
       " 2730.0  7705.0  7901.0  9676.0  1777.0     4421.0  9489.0  4950.0  5461.0\n",
       " 1518.0  6331.0  5027.0  9842.0   998.0     2435.0  1976.0  5163.0  7559.0\n",
       " 7115.0  9146.0  8968.0  8867.0  1799.0      833.0  5605.0  6931.0   764.0\n",
       " 8417.0  1545.0  6650.0    45.0   636.0     8428.0  7287.0   493.0  9951.0\n",
       " 5881.0  4052.0  8524.0  2420.0  4853.0  …  1051.0  9631.0  5149.0   386.0\n",
       " 4357.0  6221.0  8458.0   403.0  4023.0     3656.0  2393.0  2070.0  7320.0\n",
       " 5495.0  2013.0  9434.0  8214.0  3224.0      537.0  1038.0  7997.0  5095.0\n",
       "    ⋮                                    ⋱                                \n",
       " 2764.0   342.0  3944.0  7319.0  5076.0     6825.0  2562.0  4920.0  5062.0\n",
       " 2295.0  6617.0   585.0  9778.0  5475.0     5352.0  9721.0  9243.0  8828.0\n",
       " 6928.0  8749.0  2085.0  2487.0  2545.0  …  9450.0  5749.0  2488.0  2958.0\n",
       "  359.0  6879.0   993.0  4742.0  2297.0     2466.0  8035.0  2665.0  3720.0\n",
       " 1378.0  3060.0  2312.0  9453.0  1917.0      583.0  4524.0  3500.0  6158.0\n",
       " 6658.0  5898.0   545.0  8411.0  8541.0      381.0  2416.0  6333.0  1856.0\n",
       " 9697.0  9662.0   936.0  6124.0  7577.0     5730.0  2376.0  7072.0   905.0\n",
       " 5985.0  1856.0  8877.0  4613.0  7440.0  …  2559.0  4655.0  3382.0  1270.0\n",
       " 3633.0  4785.0  6360.0  5414.0   655.0        0.0  7536.0  3217.0  2156.0\n",
       " 1836.0  5907.0  2971.0  5175.0  2108.0     7536.0     0.0  3572.0  8681.0\n",
       " 2166.0  1165.0   513.0   757.0  6467.0     3217.0  3572.0     0.0  9849.0\n",
       " 8347.0  3386.0  1174.0  4475.0  7233.0     2156.0  8681.0  9849.0     0.0"
      ]
     },
     "execution_count": 51,
     "metadata": {},
     "output_type": "execute_result"
    }
   ],
   "source": [
    "@time begin\n",
    "    \n",
    "n_cities = 100\n",
    "n_cities_half_up = Int(ceil((n_cities + 1)/2))\n",
    "n_cities_half_down = Int(floor((n_cities + 1)/2))\n",
    "\n",
    "init = rand(1:80) # 1 ~ 90\n",
    "\n",
    "distances = m[(2+init):(init+n_cities+1), init:(init+n_cities-1)]\n",
    "\n",
    "end"
   ]
  },
  {
   "cell_type": "code",
   "execution_count": 54,
   "metadata": {},
   "outputs": [
    {
     "name": "stdout",
     "output_type": "stream",
     "text": [
      "  0.000020 seconds (8 allocations: 768 bytes)\n",
      "  0.000931 seconds (1.42 k allocations: 234.297 KiB)\n",
      " 10.524150 seconds (60.34 M allocations: 4.829 GiB, 5.90% gc time)\n"
     ]
    },
    {
     "data": {
      "text/plain": [
       "22557.0"
      ]
     },
     "execution_count": 54,
     "metadata": {},
     "output_type": "execute_result"
    }
   ],
   "source": [
    "@time begin\n",
    "\n",
    "#m=0\n",
    "\n",
    "max_near_cities = 5\n",
    "\n",
    "near_cities = Dict()\n",
    "    \n",
    "end\n",
    "\n",
    "# STEP 1 - preprocessing nearest cities for heuristic\n",
    "\n",
    "@time for i in 1:n_cities\n",
    "    near_cities[i] = selectperm(distances[i, :], 1:max_near_cities+1)\n",
    "    shift!(near_cities[i])\n",
    "end\n",
    "\n",
    "# STEP 2 - UPPERBOUND (quasi) Lin Kernighan - First improvement sequential 5-opt\n",
    "@time begin\n",
    "    upper_bound = 1e10\n",
    "    a = StatsBase.sample(1:n_cities, n_cities, replace=false, ordered=false)\n",
    "    best_heuristic_solution = []\n",
    "    \n",
    "    for i in 1:100*(n_cities)\n",
    "        a, better  = first_sequential_k_opt2(a)\n",
    "        if better == false\n",
    "            value = evaluate(a)\n",
    "            if value < upper_bound\n",
    "                upper_bound = value\n",
    "                best_heuristic_solution = copy(a)\n",
    "            end\n",
    "            a = StatsBase.sample(1:n_cities, n_cities, replace=false, ordered=false)\n",
    "        end\n",
    "    end\n",
    "\n",
    "    value = evaluate(a)\n",
    "    if value < upper_bound\n",
    "        upper_bound = value\n",
    "    end\n",
    "end\n",
    "\n",
    "heuristic_upper_bound = upper_bound"
   ]
  },
  {
   "cell_type": "code",
   "execution_count": null,
   "metadata": {},
   "outputs": [],
   "source": []
  }
 ],
 "metadata": {
  "kernelspec": {
   "display_name": "Julia 0.6.4",
   "language": "julia",
   "name": "julia-0.6"
  },
  "language_info": {
   "file_extension": ".jl",
   "mimetype": "application/julia",
   "name": "julia",
   "version": "0.6.4"
  }
 },
 "nbformat": 4,
 "nbformat_minor": 2
}
