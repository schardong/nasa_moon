{
 "cells": [
  {
   "cell_type": "code",
   "execution_count": 1,
   "metadata": {},
   "outputs": [
    {
     "name": "stdout",
     "output_type": "stream",
     "text": [
      "Julia Version 0.6.4\n",
      "Commit 9d11f62bcb (2018-07-09 19:09 UTC)\n",
      "Platform Info:\n",
      "  OS: Linux (x86_64-pc-linux-gnu)\n",
      "  CPU: Intel(R) Core(TM) i7-4500U CPU @ 1.80GHz\n",
      "  WORD_SIZE: 64\n",
      "  BLAS: libopenblas (USE64BITINT DYNAMIC_ARCH NO_AFFINITY Haswell MAX_THREADS=16)\n",
      "  LAPACK: libopenblas64_\n",
      "  LIBM: libopenlibm\n",
      "  LLVM: libLLVM-3.9.1 (ORCJIT, haswell)\n"
     ]
    }
   ],
   "source": [
    "versioninfo()"
   ]
  },
  {
   "cell_type": "code",
   "execution_count": 2,
   "metadata": {},
   "outputs": [],
   "source": [
    "using StatsBase\n",
    "using IterTools"
   ]
  },
  {
   "cell_type": "code",
   "execution_count": 56,
   "metadata": {},
   "outputs": [
    {
     "name": "stderr",
     "output_type": "stream",
     "text": [
      "\u001b[1m\u001b[36mINFO: \u001b[39m\u001b[22m\u001b[36mCloning cache of LightGraphs from https://github.com/JuliaGraphs/LightGraphs.jl.git\n",
      "\u001b[39m\u001b[1m\u001b[36mINFO: \u001b[39m\u001b[22m\u001b[36mCloning cache of SimpleTraits from https://github.com/mauro3/SimpleTraits.jl.git\n",
      "\u001b[39m\u001b[1m\u001b[36mINFO: \u001b[39m\u001b[22m\u001b[36mInstalling LightGraphs v0.12.0\n",
      "\u001b[39m\u001b[1m\u001b[36mINFO: \u001b[39m\u001b[22m\u001b[36mInstalling SimpleTraits v0.6.0\n",
      "\u001b[39m\u001b[1m\u001b[36mINFO: \u001b[39m\u001b[22m\u001b[36mBuilding CodecZlib\n",
      "\u001b[39m\u001b[1m\u001b[36mINFO: \u001b[39m\u001b[22m\u001b[36mPackage database updated\n",
      "\u001b[39m\u001b[1m\u001b[36mINFO: \u001b[39m\u001b[22m\u001b[36mMETADATA is out-of-date — you may not have the latest version of LightGraphs\n",
      "\u001b[39m\u001b[1m\u001b[36mINFO: \u001b[39m\u001b[22m\u001b[36mUse `Pkg.update()` to get the latest versions of your packages\n",
      "\u001b[39m"
     ]
    }
   ],
   "source": [
    "Pkg.add(\"LightGraphs\")"
   ]
  },
  {
   "cell_type": "code",
   "execution_count": 3,
   "metadata": {},
   "outputs": [
    {
     "data": {
      "text/plain": [
       "first_sequential_k_opt2 (generic function with 1 method)"
      ]
     },
     "execution_count": 3,
     "metadata": {},
     "output_type": "execute_result"
    }
   ],
   "source": [
    "function evaluate(solution)\n",
    "    objective_function = 0\n",
    "    \n",
    "    for i in 1:(size(solution)[1]-1)\n",
    "        objective_function += distances[solution[i],solution[i+1]]\n",
    "    end\n",
    "\n",
    "    objective_function += distances[solution[end],solution[1]]\n",
    "    \n",
    "    return objective_function\n",
    "end\n",
    "\n",
    "function first_sequential_k_opt2(solution)\n",
    "    #solution_ref = copy(solution)\n",
    "    #push!(solution_ref, solution[end])\n",
    "    \n",
    "    #search\n",
    "    for i in 1:length(solution)-1\n",
    "        used_cities = []\n",
    "        old_weights = distances[solution[i],solution[i+1]]\n",
    "        new_gain = 0\n",
    "        \n",
    "        new_solution = vcat(solution[i:-1:1], solution[end:-1:i+1])\n",
    "        \n",
    "        push!(used_cities, solution[i])\n",
    "        push!(used_cities, solution[i+1])\n",
    "        for k = 2:5\n",
    "            found = false\n",
    "            for city in near_cities[new_solution[end]]\n",
    "                candidate = findin(new_solution, city)\n",
    "                if length(candidate) == 1\n",
    "                    j = candidate[1]\n",
    "                    if ~(city in used_cities) & ~(new_solution[j+1] in used_cities)\n",
    "                        if ((old_weights + distances[new_solution[j],new_solution[j+1]]) >\n",
    "                            (new_gain + distances[new_solution[end], new_solution[j]]\n",
    "                            + distances[new_solution[1], new_solution[j+1]]))\n",
    "                            \n",
    "                            found = true\n",
    "                            \n",
    "                            old_weights += distances[new_solution[j],new_solution[j+1]]\n",
    "                            new_gain += distances[new_solution[end],new_solution[j]]\n",
    "                            \n",
    "                            push!(used_cities, new_solution[j])\n",
    "                            push!(used_cities, new_solution[j+1])\n",
    "                            \n",
    "                            new_solution = vcat(new_solution[1:j], new_solution[end:-1:j+1])\n",
    "                            \n",
    "                            break\n",
    "                        end\n",
    "\n",
    "                    end\n",
    "                end\n",
    "            end\n",
    "            if found == false\n",
    "                break\n",
    "            end\n",
    "        end\n",
    "        if length(used_cities) > 2\n",
    "            return new_solution, true\n",
    "        end \n",
    "    end\n",
    "    #@show solution\n",
    "    return solution, false \n",
    "end"
   ]
  },
  {
   "cell_type": "code",
   "execution_count": 5,
   "metadata": {},
   "outputs": [],
   "source": [
    "#time_limit = Dates.now() + Dates.Second(300)#+ Dates.Second(0.1) #+ Dates.Minute(5)\n",
    "\n",
    "m = readdlm(\"TSP_instances/problem_500_100_10000_10000.pctsp\");"
   ]
  },
  {
   "cell_type": "code",
   "execution_count": 100,
   "metadata": {},
   "outputs": [
    {
     "name": "stdout",
     "output_type": "stream",
     "text": [
      "  0.000059 seconds (12 allocations: 12.938 KiB)\n"
     ]
    },
    {
     "data": {
      "text/plain": [
       "40×40 Array{Float64,2}:\n",
       "    0.0  1488.0  7535.0  8143.0  5327.0  …  7770.0   238.0  7724.0  7042.0\n",
       " 1488.0     0.0  2121.0  1135.0  8011.0     3256.0  4633.0  4149.0  6493.0\n",
       " 7535.0  2121.0     0.0  1613.0  2017.0     3956.0  8729.0  3771.0  9163.0\n",
       " 8143.0  1135.0  1613.0     0.0  3950.0     8495.0  7998.0  7577.0   407.0\n",
       " 5327.0  8011.0  2017.0  3950.0     0.0     3232.0  6457.0  6015.0  4325.0\n",
       " 3254.0  3625.0  1133.0  7161.0  5140.0  …  5967.0  6680.0  2201.0  8938.0\n",
       "  495.0  6446.0  3735.0  2102.0  1152.0     4065.0  7008.0   726.0  1513.0\n",
       " 8896.0  1556.0  9817.0  3560.0  6473.0        6.0  6150.0  3785.0  1259.0\n",
       " 3569.0   944.0  1660.0  8241.0  2333.0       77.0  9255.0   519.0  8261.0\n",
       " 4215.0  9419.0  8336.0  7392.0  4125.0     9628.0  2347.0  5898.0  8413.0\n",
       " 6546.0  6263.0  2388.0  2007.0   645.0  …  5272.0  6844.0  6360.0  9352.0\n",
       " 5466.0  1997.0  7755.0  6964.0   705.0     5797.0  9957.0  3771.0  3970.0\n",
       " 9720.0  5021.0  4333.0  8543.0  5315.0     7518.0  2785.0  6780.0  1230.0\n",
       "    ⋮                                    ⋱                                \n",
       " 8537.0  7623.0   552.0   325.0  1711.0     2777.0  8057.0  8783.0  2305.0\n",
       " 5538.0  5980.0  7098.0  6414.0  9713.0      327.0  8178.0  7695.0  1170.0\n",
       " 7612.0  5555.0  8757.0  8860.0  2698.0  …    23.0  2416.0  6038.0  2414.0\n",
       " 6788.0  9568.0  4930.0  6112.0  8510.0     2914.0  1471.0  9987.0  2142.0\n",
       " 1970.0  5698.0  9764.0  1019.0   468.0     6744.0  5940.0  7350.0  8072.0\n",
       " 8312.0  1016.0  3480.0  5619.0  2839.0     3674.0  3697.0  6624.0  7173.0\n",
       "  591.0   324.0  2020.0  5211.0  4670.0     8130.0  9455.0  8791.0  9659.0\n",
       " 5239.0   776.0  4990.0  7889.0  2777.0  …  2706.0  2563.0  4215.0  5404.0\n",
       " 7770.0  3256.0  3956.0  8495.0  3232.0        0.0  6112.0  1886.0   605.0\n",
       "  238.0  4633.0  8729.0  7998.0  6457.0     6112.0     0.0  2480.0  3972.0\n",
       " 7724.0  4149.0  3771.0  7577.0  6015.0     1886.0  2480.0     0.0  9684.0\n",
       " 7042.0  6493.0  9163.0   407.0  4325.0      605.0  3972.0  9684.0     0.0"
      ]
     },
     "execution_count": 100,
     "metadata": {},
     "output_type": "execute_result"
    }
   ],
   "source": [
    "@time begin\n",
    "    \n",
    "n_cities = 40\n",
    "n_cities_half_up = Int(ceil((n_cities + 1)/2))\n",
    "n_cities_half_down = Int(floor((n_cities + 1)/2))\n",
    "\n",
    "init = rand(1:80) # 1 ~ 90\n",
    "\n",
    "distances = m[(2+init):(init+n_cities+1), init:(init+n_cities-1)]\n",
    "\n",
    "end"
   ]
  },
  {
   "cell_type": "code",
   "execution_count": 111,
   "metadata": {},
   "outputs": [
    {
     "data": {
      "text/plain": [
       "15×1 Array{Any,2}:\n",
       " \"8.000000000000000000e+01,1.036666666666666714e+02\"\n",
       " \"1.226875000000000000e+02,4.418750000000001421e+01\"\n",
       " \"1.170000000000000000e+02,1.368333333333333428e+02\"\n",
       " \"2.833333333333332860e+01,1.071666666666666714e+02\"\n",
       " \"7.563636363636362603e+01,7.309090909090909349e+01\"\n",
       " \"1.286666666666666572e+02,8.583333333333332860e+01\"\n",
       " \"8.607142857142856940e+01,9.042857142857143060e+01\"\n",
       " \"1.402777777777777715e+02,5.927777777777779278e+01\"\n",
       " \"1.364444444444444287e+02,1.221111111111111143e+02\"\n",
       " \"1.013333333333333286e+02,1.586666666666666856e+02\"\n",
       " \"9.122222222222222854e+01,1.352222222222222285e+02\"\n",
       " \"6.299999999999999289e+01,1.315000000000000000e+02\"\n",
       " \"9.785714285714286120e+01,5.128571428571429891e+01\"\n",
       " \"1.196250000000000000e+02,1.086250000000000000e+02\"\n",
       " \"1.045000000000000000e+02,7.250000000000000000e+01\""
      ]
     },
     "execution_count": 111,
     "metadata": {},
     "output_type": "execute_result"
    }
   ],
   "source": [
    "centers = readdlm(\"routing_files/centers.csv\")"
   ]
  },
  {
   "cell_type": "code",
   "execution_count": 112,
   "metadata": {},
   "outputs": [
    {
     "data": {
      "text/plain": [
       "142×1 Array{Any,2}:\n",
       " \"2.800000000000000000e+01,1.060000000000000000e+02\"\n",
       " \"2.800000000000000000e+01,1.070000000000000000e+02\"\n",
       " \"2.800000000000000000e+01,1.080000000000000000e+02\"\n",
       " \"2.800000000000000000e+01,1.090000000000000000e+02\"\n",
       " \"2.900000000000000000e+01,1.060000000000000000e+02\"\n",
       " \"2.900000000000000000e+01,1.070000000000000000e+02\"\n",
       " \"5.200000000000000000e+01,1.220000000000000000e+02\"\n",
       " \"6.400000000000000000e+01,1.330000000000000000e+02\"\n",
       " \"6.500000000000000000e+01,1.330000000000000000e+02\"\n",
       " \"6.500000000000000000e+01,1.340000000000000000e+02\"\n",
       " \"6.600000000000000000e+01,1.330000000000000000e+02\"\n",
       " \"6.600000000000000000e+01,1.340000000000000000e+02\"\n",
       " \"7.300000000000000000e+01,7.300000000000000000e+01\"\n",
       " ⋮                                                  \n",
       " \"1.370000000000000000e+02,1.100000000000000000e+02\"\n",
       " \"1.370000000000000000e+02,1.270000000000000000e+02\"\n",
       " \"1.370000000000000000e+02,1.280000000000000000e+02\"\n",
       " \"1.370000000000000000e+02,1.290000000000000000e+02\"\n",
       " \"1.380000000000000000e+02,6.600000000000000000e+01\"\n",
       " \"1.380000000000000000e+02,6.700000000000000000e+01\"\n",
       " \"1.390000000000000000e+02,6.600000000000000000e+01\"\n",
       " \"1.500000000000000000e+02,6.700000000000000000e+01\"\n",
       " \"1.520000000000000000e+02,5.600000000000000000e+01\"\n",
       " \"1.520000000000000000e+02,5.700000000000000000e+01\"\n",
       " \"1.530000000000000000e+02,5.700000000000000000e+01\"\n",
       " \"1.540000000000000000e+02,5.700000000000000000e+01\""
      ]
     },
     "execution_count": 112,
     "metadata": {},
     "output_type": "execute_result"
    }
   ],
   "source": [
    "centers = readdlm(\"routing_files/centers.csv\")\n",
    "clusters = readdlm(\"routing_files/clusters.csv\")\n",
    "euclidean_distances = readdlm(\"routing_files/euclidean_distances.csv\")\n",
    "coord_of_POI = readdlm(\"routing_files/coord_of_POI.csv\")"
   ]
  },
  {
   "cell_type": "code",
   "execution_count": 109,
   "metadata": {},
   "outputs": [
    {
     "name": "stdout",
     "output_type": "stream",
     "text": [
      "  0.000022 seconds (8 allocations: 768 bytes)\n",
      "  0.000173 seconds (546 allocations: 57.375 KiB)\n",
      "  1.201516 seconds (8.90 M allocations: 597.343 MiB, 14.67% gc time)\n"
     ]
    },
    {
     "data": {
      "text/plain": [
       "14216.0"
      ]
     },
     "execution_count": 109,
     "metadata": {},
     "output_type": "execute_result"
    }
   ],
   "source": [
    "@time begin\n",
    "\n",
    "#m=0\n",
    "\n",
    "max_near_cities = 5\n",
    "\n",
    "near_cities = Dict()\n",
    "    \n",
    "end\n",
    "\n",
    "# STEP 1 - preprocessing nearest cities for heuristic\n",
    "\n",
    "@time for i in 1:n_cities\n",
    "    near_cities[i] = selectperm(distances[i, :], 1:max_near_cities+1)\n",
    "    shift!(near_cities[i])\n",
    "end\n",
    "\n",
    "# STEP 2 - UPPERBOUND (quasi) Lin Kernighan - First improvement sequential 5-opt\n",
    "@time begin\n",
    "    upper_bound = 1e10\n",
    "    a = StatsBase.sample(1:n_cities, n_cities, replace=false, ordered=false)\n",
    "    best_heuristic_solution = []\n",
    "    \n",
    "    for i in 1:500*(n_cities)\n",
    "        a, better  = first_sequential_k_opt2(a)\n",
    "        if better == false\n",
    "            value = evaluate(a)\n",
    "            if value < upper_bound\n",
    "                upper_bound = value\n",
    "                best_heuristic_solution = copy(a)\n",
    "            end\n",
    "            a = StatsBase.sample(1:n_cities, n_cities, replace=false, ordered=false)\n",
    "        end\n",
    "    end\n",
    "\n",
    "    value = evaluate(a)\n",
    "    if value < upper_bound\n",
    "        upper_bound = value\n",
    "    end\n",
    "end\n",
    "\n",
    "heuristic_upper_bound = upper_bound"
   ]
  },
  {
   "cell_type": "code",
   "execution_count": null,
   "metadata": {},
   "outputs": [],
   "source": []
  }
 ],
 "metadata": {
  "kernelspec": {
   "display_name": "Julia 0.6.4",
   "language": "julia",
   "name": "julia-0.6"
  },
  "language_info": {
   "file_extension": ".jl",
   "mimetype": "application/julia",
   "name": "julia",
   "version": "0.6.4"
  }
 },
 "nbformat": 4,
 "nbformat_minor": 2
}
