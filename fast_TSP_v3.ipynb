{
 "cells": [
  {
   "cell_type": "code",
   "execution_count": 8,
   "metadata": {},
   "outputs": [
    {
     "name": "stdout",
     "output_type": "stream",
     "text": [
      "Julia Version 0.6.4\n",
      "Commit 9d11f62bcb (2018-07-09 19:09 UTC)\n",
      "Platform Info:\n",
      "  OS: Linux (x86_64-pc-linux-gnu)\n",
      "  CPU: Intel(R) Core(TM) i7-4500U CPU @ 1.80GHz\n",
      "  WORD_SIZE: 64\n",
      "  BLAS: libopenblas (USE64BITINT DYNAMIC_ARCH NO_AFFINITY Haswell MAX_THREADS=16)\n",
      "  LAPACK: libopenblas64_\n",
      "  LIBM: libopenlibm\n",
      "  LLVM: libLLVM-3.9.1 (ORCJIT, haswell)\n"
     ]
    }
   ],
   "source": [
    "versioninfo()"
   ]
  },
  {
   "cell_type": "code",
   "execution_count": 15,
   "metadata": {},
   "outputs": [],
   "source": [
    "using StatsBase\n",
    "using IterTools"
   ]
  },
  {
   "cell_type": "code",
   "execution_count": 16,
   "metadata": {},
   "outputs": [
    {
     "data": {
      "text/plain": [
       "first_sequential_k_opt2 (generic function with 1 method)"
      ]
     },
     "execution_count": 16,
     "metadata": {},
     "output_type": "execute_result"
    }
   ],
   "source": [
    "function evaluate(solution, distances)\n",
    "    objective_function = 0\n",
    "    \n",
    "    for i in 1:(size(solution)[1]-1)\n",
    "        objective_function += distances[solution[i],solution[i+1]]\n",
    "    end\n",
    "\n",
    "    objective_function += distances[solution[end],solution[1]]\n",
    "    \n",
    "    return objective_function\n",
    "end\n",
    "\n",
    "function first_sequential_k_opt2(solution, near_cities, distances)\n",
    "    #solution_ref = copy(solution)\n",
    "    #push!(solution_ref, solution[end])\n",
    "    \n",
    "    #search\n",
    "    for i in 1:length(solution)-1\n",
    "        used_cities = []\n",
    "        old_weights = distances[solution[i],solution[i+1]]\n",
    "        new_gain = 0\n",
    "        \n",
    "        new_solution = vcat(solution[i:-1:1], solution[end:-1:i+1])\n",
    "        \n",
    "        push!(used_cities, solution[i])\n",
    "        push!(used_cities, solution[i+1])\n",
    "        for k = 2:5\n",
    "            found = false\n",
    "            for city in near_cities[new_solution[end]]\n",
    "                candidate = findin(new_solution, city)\n",
    "                if length(candidate) == 1\n",
    "                    j = candidate[1]\n",
    "                    if ~(city in used_cities) & ~(new_solution[j+1] in used_cities)\n",
    "                        if ((old_weights + distances[new_solution[j],new_solution[j+1]]) >\n",
    "                            (new_gain + distances[new_solution[end], new_solution[j]]\n",
    "                            + distances[new_solution[1], new_solution[j+1]]))\n",
    "                            \n",
    "                            found = true\n",
    "                            \n",
    "                            old_weights += distances[new_solution[j],new_solution[j+1]]\n",
    "                            new_gain += distances[new_solution[end],new_solution[j]]\n",
    "                            \n",
    "                            push!(used_cities, new_solution[j])\n",
    "                            push!(used_cities, new_solution[j+1])\n",
    "                            \n",
    "                            new_solution = vcat(new_solution[1:j], new_solution[end:-1:j+1])\n",
    "                            \n",
    "                            break\n",
    "                        end\n",
    "\n",
    "                    end\n",
    "                end\n",
    "            end\n",
    "            if found == false\n",
    "                break\n",
    "            end\n",
    "        end\n",
    "        if length(used_cities) > 2\n",
    "            return new_solution, true\n",
    "        end \n",
    "    end\n",
    "    #@show solution\n",
    "    return solution, false \n",
    "end"
   ]
  },
  {
   "cell_type": "code",
   "execution_count": 17,
   "metadata": {},
   "outputs": [
    {
     "data": {
      "text/plain": [
       "TSP (generic function with 1 method)"
      ]
     },
     "execution_count": 17,
     "metadata": {},
     "output_type": "execute_result"
    }
   ],
   "source": [
    "function TSP(distances)\n",
    "    \n",
    "    n_cities = size(distances)[1]\n",
    "    max_near_cities = min(5,n_cities-1)\n",
    "\n",
    "    near_cities = Dict()\n",
    "\n",
    "    # STEP 1 - preprocessing nearest cities for heuristic\n",
    "\n",
    "    for i in 1:n_cities\n",
    "        near_cities[i] = selectperm(distances[i, :], 1:max_near_cities+1)\n",
    "        shift!(near_cities[i])\n",
    "    end\n",
    "\n",
    "    # STEP 2 - UPPERBOUND (quasi) Lin Kernighan - First improvement sequential 5-opt\n",
    "    begin\n",
    "        upper_bound = 1e10\n",
    "        a = StatsBase.sample(1:n_cities, n_cities, replace=false, ordered=false)\n",
    "        best_heuristic_solution = []\n",
    "\n",
    "        for i in 1:100*(n_cities)\n",
    "            a, better  = first_sequential_k_opt2(a, near_cities, distances)\n",
    "            if better == false\n",
    "                value = evaluate(a, distances)\n",
    "                if value < upper_bound\n",
    "                    upper_bound = value\n",
    "                    best_heuristic_solution = copy(a)\n",
    "                end\n",
    "                a = StatsBase.sample(1:n_cities, n_cities, replace=false, ordered=false)\n",
    "            end\n",
    "        end\n",
    "\n",
    "        value = evaluate(a, distances)\n",
    "        if value < upper_bound\n",
    "            upper_bound = value\n",
    "        end\n",
    "    end\n",
    "\n",
    "    return upper_bound, best_heuristic_solution\n",
    "end"
   ]
  },
  {
   "cell_type": "code",
   "execution_count": 18,
   "metadata": {},
   "outputs": [],
   "source": [
    "centers = readdlm(\"routing_files/centers.csv\",',')\n",
    "clusters = readdlm(\"routing_files/clusters.csv\",',')\n",
    "euclidean_distances = readdlm(\"routing_files/euclidean_distances.csv\",',')\n",
    "coord_of_POI = readdlm(\"routing_files/coord_of_POI.csv\",',');"
   ]
  },
  {
   "cell_type": "code",
   "execution_count": 19,
   "metadata": {},
   "outputs": [
    {
     "data": {
      "text/plain": [
       "142"
      ]
     },
     "execution_count": 19,
     "metadata": {},
     "output_type": "execute_result"
    }
   ],
   "source": [
    "base_coord = coord_of_POI[1,:];\n",
    "relative_coord = (coord_of_POI[2:end,:] .- base_coord');\n",
    "n_POI = size(relative_coord)[1]"
   ]
  },
  {
   "cell_type": "code",
   "execution_count": 20,
   "metadata": {},
   "outputs": [
    {
     "name": "stdout",
     "output_type": "stream",
     "text": [
      "  0.774311 seconds (4.34 M allocations: 295.339 MiB, 5.86% gc time)\n"
     ]
    }
   ],
   "source": [
    "@time open(\"routing_files/route_order.txt\", \"w\") do f\n",
    "\n",
    "    for i in 1:Int(maximum(clusters[:,1]))\n",
    "\n",
    "        idx_cluster = collect(1:n_POI)[(clusters .== i)[:,1]]\n",
    "        idx_cluster = vcat([1], idx_cluster .+ 1)\n",
    "\n",
    "        distance, order = TSP(euclidean_distances[idx_cluster,idx_cluster])\n",
    "        idx_cluster[order]\n",
    "        pos = find(idx_cluster[order] .== 1)[1]\n",
    "        idx_order = copy(idx_cluster[order])\n",
    "        if pos > 1\n",
    "            idx_order = vcat(idx_order[pos:end], idx_order[1:pos-1])\n",
    "        end\n",
    "        \n",
    "        \n",
    "        write(f, string(coord_of_POI[idx_order,:],\"\\n\"))\n",
    "    end\n",
    "\n",
    "end"
   ]
  },
  {
   "cell_type": "code",
   "execution_count": null,
   "metadata": {},
   "outputs": [],
   "source": []
  }
 ],
 "metadata": {
  "kernelspec": {
   "display_name": "Julia 0.6.4",
   "language": "julia",
   "name": "julia-0.6"
  },
  "language_info": {
   "file_extension": ".jl",
   "mimetype": "application/julia",
   "name": "julia",
   "version": "0.6.4"
  }
 },
 "nbformat": 4,
 "nbformat_minor": 2
}
