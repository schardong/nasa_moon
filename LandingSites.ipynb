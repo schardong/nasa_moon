{
 "cells": [
  {
   "cell_type": "code",
   "execution_count": 1,
   "metadata": {},
   "outputs": [],
   "source": [
    "import math\n",
    "import numpy as np\n",
    "import sys\n",
    "import cv2\n",
    "import pickle\n",
    "from sklearn.preprocessing import normalize\n",
    "import matplotlib.pyplot as plt"
   ]
  },
  {
   "cell_type": "code",
   "execution_count": 2,
   "metadata": {},
   "outputs": [],
   "source": [
    "input_filename = \"data/LAMP_80s_240mpp_ratio_albed_01.img\"\n",
    "shape = (2501, 2501) # matrix size\n",
    "dtype = np.float32 # big-endian unsigned integer (16bit)\n",
    "output_filename = \"LAMP_BRITE.PNG\""
   ]
  },
  {
   "cell_type": "code",
   "execution_count": 3,
   "metadata": {},
   "outputs": [],
   "source": [
    "height = np.reshape(np.fromfile(open(\"data/LDEM_75S_120M.IMG\",\n",
    "                                     'rb'), np.int16),\n",
    "                    (7624,7624))\n",
    "albedo = np.reshape(np.fromfile(open(\"data/LDAM_50S_1000M_FLOAT.IMG\",\n",
    "                                     'rb'), np.float32),\n",
    "                    (2532,2532))\n",
    "LAMP_ratio_albed = np.reshape(np.fromfile(open(\"data/LAMP_80s_240mpp_ratio_albed_01.img\",\n",
    "                                     'rb'), np.float32),\n",
    "                    (2501,2501))\n",
    "LAMP_ratio_brite = np.reshape(np.fromfile(open(\"data/LAMP_80s_240mpp_ratio_brite_01.img\",\n",
    "                                     'rb'), np.float32),\n",
    "                    (2501,2501))"
   ]
  },
  {
   "cell_type": "code",
   "execution_count": 4,
   "metadata": {},
   "outputs": [],
   "source": [
    "height = height[1311:-1311,1311:-1311]\n",
    "albedo = albedo[966:-966,966:-966]\n",
    "\n",
    "lamp_brite = cv2.resize(LAMP_ratio_brite, dsize=height.shape)\n",
    "lamp_albed = cv2.resize(LAMP_ratio_albed, dsize=height.shape)\n",
    "albedo = cv2.resize(albedo, dsize=height.shape)"
   ]
  },
  {
   "cell_type": "code",
   "execution_count": 5,
   "metadata": {},
   "outputs": [],
   "source": [
    "threshold_albedo = 0.35\n",
    "threshold_lamp_ratio = 1.2"
   ]
  },
  {
   "cell_type": "code",
   "execution_count": 6,
   "metadata": {},
   "outputs": [],
   "source": [
    "image = albedo > threshold_albedo"
   ]
  },
  {
   "cell_type": "code",
   "execution_count": 7,
   "metadata": {},
   "outputs": [
    {
     "data": {
      "image/png": "[encoded data removed]",
      "text/plain": [
       "<Figure size 432x288 with 1 Axes>"
      ]
     },
     "metadata": {},
     "output_type": "display_data"
    }
   ],
   "source": [
    "plt.imshow(image)\n",
    "#plt.savefig(output_filename)\n",
    "plt.show()"
   ]
  },
  {
   "cell_type": "code",
   "execution_count": 8,
   "metadata": {},
   "outputs": [
    {
     "name": "stderr",
     "output_type": "stream",
     "text": [
      "/Users/gschardong/.pyenv/versions/3.6.1/lib/python3.6/site-packages/ipykernel_launcher.py:2: RuntimeWarning: invalid value encountered in greater\n",
      "  \n"
     ]
    }
   ],
   "source": [
    "POI = ((lamp_albed > threshold_lamp_ratio) & \n",
    "        (lamp_brite > threshold_lamp_ratio) & \n",
    "        (albedo > threshold_albedo))"
   ]
  },
  {
   "cell_type": "code",
   "execution_count": 9,
   "metadata": {},
   "outputs": [],
   "source": [
    "km_per_px = 0.12\n",
    "rover_max_dist_km = 24\n",
    "rover_max_dist_px = rover_max_dist_km / km_per_px"
   ]
  },
  {
   "cell_type": "code",
   "execution_count": null,
   "metadata": {},
   "outputs": [],
   "source": [
    "%%time\n",
    "from multiprocessing import Pool\n",
    "from itertools import product\n",
    "\n",
    "\n",
    "def process_roi(params_tup):\n",
    "    i, j = params_tup\n",
    "    ks = kern_size * kern_size\n",
    "    count = POI[i:i+kern_size, j:j+kern_size].sum()\n",
    "    prob = count / ks\n",
    "    return count, prob, i, j\n",
    "\n",
    "\n",
    "kern_size = int(rover_max_dist_px)\n",
    "x, y = POI.shape[0] - kern_size, POI.shape[1] - kern_size\n",
    "params = product(np.arange(x), np.arange(y))\n",
    "POI_prob = np.zeros((x, y))\n",
    "POI_count = np.zeros((x, y))\n",
    "\n",
    "with Pool(processes=12) as p:\n",
    "    results = p.map_async(process_roi, params).get()\n",
    "    for r in results:\n",
    "        count, prob, i, j = r\n",
    "        POI_prob[i, j] = prob\n",
    "        POI_count[i, j] = count\n",
    "\n",
    "np.save('POI_prob.npy', POI_prob)\n",
    "np.save('POI_count.npy', POI_count)"
   ]
  },
  {
   "cell_type": "code",
   "execution_count": null,
   "metadata": {},
   "outputs": [],
   "source": [
    "plt.imshow(POI_count)\n",
    "plt.show()"
   ]
  },
  {
   "cell_type": "code",
   "execution_count": null,
   "metadata": {},
   "outputs": [],
   "source": [
    "plt.imshow(POI_prob)\n",
    "plt.show()"
   ]
  }
 ],
 "metadata": {
  "kernelspec": {
   "display_name": "Python 3",
   "language": "python",
   "name": "python3"
  },
  "language_info": {
   "codemirror_mode": {
    "name": "ipython",
    "version": 3
   },
   "file_extension": ".py",
   "mimetype": "text/x-python",
   "name": "python",
   "nbconvert_exporter": "python",
   "pygments_lexer": "ipython3",
   "version": "3.6.1"
  }
 },
 "nbformat": 4,
 "nbformat_minor": 2
}
