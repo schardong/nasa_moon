{
 "cells": [
  {
   "cell_type": "code",
   "execution_count": 5,
   "metadata": {},
   "outputs": [],
   "source": [
    "import math\n",
    "import numpy as np\n",
    "import sys\n",
    "#import cv2\n",
    "import pickle\n",
    "from sklearn.preprocessing import normalize\n",
    "import matplotlib.pyplot as plt"
   ]
  },
  {
   "cell_type": "code",
   "execution_count": 43,
   "metadata": {},
   "outputs": [
    {
     "data": {
      "text/plain": [
       "6255001"
      ]
     },
     "execution_count": 43,
     "metadata": {},
     "output_type": "execute_result"
    }
   ],
   "source": [
    "2501*2501"
   ]
  },
  {
   "cell_type": "code",
   "execution_count": 113,
   "metadata": {},
   "outputs": [],
   "source": [
    "input_filename = \"data/LAMP_80s_240mpp_ratio_albed_01.img\"\n",
    "shape = (2501, 2501) # matrix size\n",
    "dtype = np.float32 # big-endian unsigned integer (16bit)\n",
    "output_filename = \"LAMP_BRITE.PNG\""
   ]
  },
  {
   "cell_type": "code",
   "execution_count": 130,
   "metadata": {},
   "outputs": [],
   "source": [
    "height = np.reshape(np.fromfile(open(\"data/LDEM_75S_120M.IMG\",\n",
    "                                     'rb'), np.int16),\n",
    "                    (7624,7624))\n",
    "albedo = np.reshape(np.fromfile(open(\"data/LDAM_50S_1000M_FLOAT.IMG\",\n",
    "                                     'rb'), np.float32),\n",
    "                    (2532,2532))\n",
    "LAMP_ratio_albed = np.reshape(np.fromfile(open(\"data/LAMP_80s_240mpp_ratio_albed_01.img\",\n",
    "                                     'rb'), np.float32),\n",
    "                    (2501,2501))\n",
    "LAMP_ratio_brite = np.reshape(np.fromfile(open(\"data/LAMP_80s_240mpp_ratio_brite_01.img\",\n",
    "                                     'rb'), np.float32),\n",
    "                    (2501,2501))"
   ]
  },
  {
   "cell_type": "code",
   "execution_count": 131,
   "metadata": {},
   "outputs": [],
   "source": [
    "height = height[1311:-1311,1311:-1311]\n",
    "albedo = albedo[966:-966,966:-966]"
   ]
  },
  {
   "cell_type": "code",
   "execution_count": 132,
   "metadata": {},
   "outputs": [
    {
     "data": {
      "text/plain": [
       "(5002, 5002)"
      ]
     },
     "execution_count": 132,
     "metadata": {},
     "output_type": "execute_result"
    }
   ],
   "source": [
    "height.shape"
   ]
  },
  {
   "cell_type": "code",
   "execution_count": 116,
   "metadata": {},
   "outputs": [
    {
     "name": "stderr",
     "output_type": "stream",
     "text": [
      "/home/georgesmss/.local/lib/python3.6/site-packages/ipykernel_launcher.py:1: RuntimeWarning: invalid value encountered in greater\n",
      "  \"\"\"Entry point for launching an IPython kernel.\n"
     ]
    },
    {
     "data": {
      "text/plain": [
       "1519741"
      ]
     },
     "execution_count": 116,
     "metadata": {},
     "output_type": "execute_result"
    }
   ],
   "source": [
    "len(data[data > 1.2])"
   ]
  },
  {
   "cell_type": "code",
   "execution_count": 117,
   "metadata": {},
   "outputs": [],
   "source": [
    "import pandas as pd"
   ]
  },
  {
   "cell_type": "code",
   "execution_count": 118,
   "metadata": {},
   "outputs": [],
   "source": [
    "data_df = pd.DataFrame(data)"
   ]
  },
  {
   "cell_type": "code",
   "execution_count": 119,
   "metadata": {},
   "outputs": [],
   "source": [
    "data_df = data_df.dropna(axis=0)"
   ]
  },
  {
   "cell_type": "code",
   "execution_count": 120,
   "metadata": {},
   "outputs": [
    {
     "data": {
      "text/plain": [
       "-25135748.0"
      ]
     },
     "execution_count": 120,
     "metadata": {},
     "output_type": "execute_result"
    }
   ],
   "source": [
    "min(data_df[0])"
   ]
  },
  {
   "cell_type": "code",
   "execution_count": 124,
   "metadata": {},
   "outputs": [
    {
     "data": {
      "text/plain": [
       "0.5208863019943237"
      ]
     },
     "execution_count": 124,
     "metadata": {},
     "output_type": "execute_result"
    }
   ],
   "source": [
    "data_df[0].quantile(.5)"
   ]
  },
  {
   "cell_type": "code",
   "execution_count": 67,
   "metadata": {},
   "outputs": [],
   "source": [
    "%matplotlib inline"
   ]
  },
  {
   "cell_type": "code",
   "execution_count": 69,
   "metadata": {},
   "outputs": [
    {
     "data": {
      "text/plain": [
       "array([[<matplotlib.axes._subplots.AxesSubplot object at 0x7fa2882a0860>]],\n",
       "      dtype=object)"
      ]
     },
     "execution_count": 69,
     "metadata": {},
     "output_type": "execute_result"
    },
    {
     "data": {
      "image/png": "[encoded data removed]",
      "text/plain": [
       "<Figure size 432x288 with 1 Axes>"
      ]
     },
     "metadata": {},
     "output_type": "display_data"
    }
   ],
   "source": [
    "data_df.dropna(axis=0)"
   ]
  },
  {
   "cell_type": "code",
   "execution_count": 51,
   "metadata": {},
   "outputs": [
    {
     "data": {
      "text/plain": [
       "array([nan, nan, nan, ..., nan, nan, nan], dtype=float32)"
      ]
     },
     "execution_count": 51,
     "metadata": {},
     "output_type": "execute_result"
    }
   ],
   "source": [
    "data"
   ]
  },
  {
   "cell_type": "code",
   "execution_count": 52,
   "metadata": {},
   "outputs": [
    {
     "data": {
      "text/plain": [
       "array([            nan, -6.85080051e-01,             nan,             nan,\n",
       "                   nan,  2.89404690e-01,  2.37846780e+00, -5.75819194e-01,\n",
       "        4.54509318e-01, -2.33105183e+00,  2.94498825e+01,  4.72416759e-01,\n",
       "       -1.00967026e+01,             nan, -2.06980443e+00,  4.58609551e-01,\n",
       "       -9.45767224e-01,             nan, -2.00793910e+00, -3.02329361e-01,\n",
       "        4.33907032e-01,  2.29850039e-01, -4.60311174e-01, -1.05377734e+00,\n",
       "        1.24920726e+00,  4.56819229e+01, -1.08807242e+00,  2.85960764e-01,\n",
       "        1.10120916e+00,             nan,             nan,             nan,\n",
       "                   nan,  9.85962674e-02, -5.48149049e-02,  1.78014553e+00,\n",
       "       -6.87846959e-01,             nan,  1.21959537e-01,             nan,\n",
       "        8.03934038e-01,  2.61498183e-01,  6.61534929e+00, -5.54626656e+00,\n",
       "       -5.19516802e+00, -2.13684297e+00,  3.17869410e-02,  4.19727474e-01,\n",
       "        6.16010618e+00,  1.48766235e-01, -4.93643379e+00, -5.99060583e+00,\n",
       "       -3.90792012e+00,             nan,             nan,             nan,\n",
       "       -2.39892912e+00,  2.35782281e-01,  4.86171663e-01,  2.90568441e-01,\n",
       "        2.19870090e+00, -1.79973757e+00,             nan,             nan,\n",
       "        1.70798659e-01,  3.49857539e-01, -7.72460222e-01,  9.07196462e-01,\n",
       "        6.82583904e+00, -1.00944161e+00,  7.02369750e-01,             nan,\n",
       "       -3.86260676e+00,  1.23629615e-01,  6.52755722e-02,  5.60598783e-02,\n",
       "        2.92730212e-01, -1.51993036e+00,  2.21328493e-02,  1.12655289e-01,\n",
       "                   nan,  3.74715447e-01,  2.76486456e-01,  5.03733158e-01,\n",
       "        4.59392548e-01, -2.02670021e+01,  1.11580300e+00, -8.49366856e+00,\n",
       "        2.35251784e+00,  7.42254257e-01,  7.84104392e-02, -1.16243683e-01,\n",
       "                   nan, -2.36941874e-01, -2.27926504e-02,  2.55999774e-01,\n",
       "        9.57953155e-01, -5.03122270e-01, -2.78196239e+00,             nan],\n",
       "      dtype=float32)"
      ]
     },
     "execution_count": 52,
     "metadata": {},
     "output_type": "execute_result"
    }
   ],
   "source": [
    "data[10000:10100]"
   ]
  },
  {
   "cell_type": "code",
   "execution_count": 53,
   "metadata": {},
   "outputs": [
    {
     "data": {
      "text/plain": [
       "12510002"
      ]
     },
     "execution_count": 53,
     "metadata": {},
     "output_type": "execute_result"
    }
   ],
   "source": [
    "2501*2501*2"
   ]
  },
  {
   "cell_type": "code",
   "execution_count": 84,
   "metadata": {},
   "outputs": [
    {
     "data": {
      "text/plain": [
       "nan"
      ]
     },
     "execution_count": 84,
     "metadata": {},
     "output_type": "execute_result"
    }
   ],
   "source": [
    "min(data)"
   ]
  },
  {
   "cell_type": "code",
   "execution_count": 85,
   "metadata": {},
   "outputs": [
    {
     "data": {
      "text/plain": [
       "nan"
      ]
     },
     "execution_count": 85,
     "metadata": {},
     "output_type": "execute_result"
    }
   ],
   "source": [
    "max(data)"
   ]
  },
  {
   "cell_type": "code",
   "execution_count": 56,
   "metadata": {},
   "outputs": [
    {
     "name": "stdout",
     "output_type": "stream",
     "text": [
      "[[        nan         nan         nan ...         nan         nan\n",
      "          nan]\n",
      " [        nan         nan         nan ...         nan         nan\n",
      "          nan]\n",
      " [        nan -2.951781   -0.06313115 ... -0.40466374         nan\n",
      "          nan]\n",
      " ...\n",
      " [        nan         nan  0.79870033 ...  0.3173568  -0.9949118\n",
      "          nan]\n",
      " [        nan  1.8198925  -4.1491294  ...  0.10404063         nan\n",
      "          nan]\n",
      " [        nan         nan         nan ...         nan         nan\n",
      "          nan]]\n"
     ]
    }
   ],
   "source": [
    "print(image)"
   ]
  },
  {
   "cell_type": "code",
   "execution_count": 57,
   "metadata": {},
   "outputs": [
    {
     "data": {
      "image/png": "[encoded data removed]",
      "text/plain": [
       "<Figure size 432x288 with 1 Axes>"
      ]
     },
     "metadata": {},
     "output_type": "display_data"
    }
   ],
   "source": [
    "# Display.\n",
    "plt.imshow(image)\n",
    "plt.savefig(output_filename)\n",
    "plt.show()"
   ]
  },
  {
   "cell_type": "code",
   "execution_count": null,
   "metadata": {},
   "outputs": [],
   "source": [
    "distance = \n"
   ]
  },
  {
   "cell_type": "code",
   "execution_count": null,
   "metadata": {},
   "outputs": [],
   "source": []
  }
 ],
 "metadata": {
  "kernelspec": {
   "display_name": "Python 3",
   "language": "python",
   "name": "python3"
  },
  "language_info": {
   "codemirror_mode": {
    "name": "ipython",
    "version": 3
   },
   "file_extension": ".py",
   "mimetype": "text/x-python",
   "name": "python",
   "nbconvert_exporter": "python",
   "pygments_lexer": "ipython3",
   "version": "3.6.5"
  }
 },
 "nbformat": 4,
 "nbformat_minor": 2
}
